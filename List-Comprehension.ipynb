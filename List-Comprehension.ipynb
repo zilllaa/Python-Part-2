{
 "cells": [
  {
   "cell_type": "markdown",
   "id": "aa522cbb",
   "metadata": {},
   "source": [
    "# List Comprehension"
   ]
  },
  {
   "cell_type": "markdown",
   "id": "9b5b6289",
   "metadata": {},
   "source": [
    "- List comprehension offers a shorter syntax when you want to create a new list based on the values of an existing list.\n",
    "- Without list comprehension you will have to write a for statement with a conditional test inside\n"
   ]
  },
  {
   "cell_type": "code",
   "execution_count": 1,
   "id": "daa41f95",
   "metadata": {},
   "outputs": [
    {
     "name": "stdout",
     "output_type": "stream",
     "text": [
      "[55, 60, 65, 70, 75]\n"
     ]
    }
   ],
   "source": [
    "a = [11, 12, 13, 14, 15]\n",
    "\n",
    "newlist=[]\n",
    "\n",
    "for i in a:\n",
    "    newlist.append(i*5)\n",
    "print(newlist)"
   ]
  },
  {
   "cell_type": "markdown",
   "id": "13d0cd3f",
   "metadata": {},
   "source": [
    "With list comprehension you can do all that with only one line of code:"
   ]
  },
  {
   "cell_type": "code",
   "execution_count": 3,
   "id": "8c435560",
   "metadata": {},
   "outputs": [
    {
     "name": "stdout",
     "output_type": "stream",
     "text": [
      "[55, 60, 65, 70, 75]\n"
     ]
    }
   ],
   "source": [
    "a = [11, 12, 13, 14, 15]\n",
    "\n",
    "newlist=[i*5 for i in a]\n",
    "\n",
    "print(newlist)"
   ]
  },
  {
   "cell_type": "markdown",
   "id": "9c8c2192",
   "metadata": {},
   "source": [
    "## Condition\n",
    "\n"
   ]
  },
  {
   "cell_type": "markdown",
   "id": "536a3bba",
   "metadata": {},
   "source": [
    "The condition is like a filter that only accepts the items that valuate to True."
   ]
  },
  {
   "cell_type": "code",
   "execution_count": 4,
   "id": "ce8346d1",
   "metadata": {},
   "outputs": [
    {
     "name": "stdout",
     "output_type": "stream",
     "text": [
      "['apple', 'grape', 'pear']\n"
     ]
    }
   ],
   "source": [
    "fruits=[\"apple\",\"banana\",\"mango\",\"grape\",\"pear\"]\n",
    "\n",
    "new_fruits = []\n",
    "\n",
    "for i in fruits:\n",
    "    if \"p\" in i:\n",
    "        new_fruits.append(i)\n",
    "print(new_fruits)\n",
    "        \n",
    "    #create a new list with fruits containing the letter 'p'"
   ]
  },
  {
   "cell_type": "code",
   "execution_count": 5,
   "id": "e7631e90",
   "metadata": {},
   "outputs": [
    {
     "name": "stdout",
     "output_type": "stream",
     "text": [
      "['apple', 'grape', 'pear']\n"
     ]
    }
   ],
   "source": [
    "fruits=[\"apple\",\"banana\",\"mango\",\"grape\",\"pear\"]\n",
    "new_fruits = [i for i in fruits if \"p\" in i]\n",
    "\n",
    "print(new_fruits)"
   ]
  },
  {
   "cell_type": "markdown",
   "id": "86b816f3",
   "metadata": {},
   "source": [
    "## Iterable"
   ]
  },
  {
   "cell_type": "markdown",
   "id": "b2c31af3",
   "metadata": {},
   "source": [
    "\n",
    "- The iterable can be any iterable object\n",
    "- You can use the range() function to create an iterable.\n"
   ]
  },
  {
   "cell_type": "code",
   "execution_count": 6,
   "id": "2f39599a",
   "metadata": {},
   "outputs": [
    {
     "name": "stdout",
     "output_type": "stream",
     "text": [
      "[25, 30, 35, 40, 45]\n"
     ]
    }
   ],
   "source": [
    "new=[]\n",
    "for i in range(5,10):\n",
    "    new.append(i*5)\n",
    "print(new)"
   ]
  },
  {
   "cell_type": "code",
   "execution_count": 7,
   "id": "db2628f6",
   "metadata": {},
   "outputs": [
    {
     "name": "stdout",
     "output_type": "stream",
     "text": [
      "[25, 30, 35, 40, 45]\n"
     ]
    }
   ],
   "source": [
    "new=[i*5 for i in range(5,10)]\n",
    "print(new)"
   ]
  },
  {
   "cell_type": "code",
   "execution_count": 1,
   "id": "6a75e8d8",
   "metadata": {},
   "outputs": [
    {
     "name": "stdout",
     "output_type": "stream",
     "text": [
      "['c']\n"
     ]
    }
   ],
   "source": [
    "abc=[\"a\",\"b\",\"c\"]\n",
    "cde=[\"c\",\"d\",\"e\"]\n",
    "\n",
    "duplicate=[]\n",
    "\n",
    "for i in abc:\n",
    "    for j in cde:\n",
    "        if i == j:\n",
    "            duplicate.append(i)\n",
    "print(duplicate)"
   ]
  },
  {
   "cell_type": "code",
   "execution_count": 2,
   "id": "c7a3a6a1",
   "metadata": {},
   "outputs": [
    {
     "name": "stdout",
     "output_type": "stream",
     "text": [
      "[2, 4, 6, 8]\n"
     ]
    }
   ],
   "source": [
    "a = [1, 2, 3, 4]\n",
    "b = [5, 6, 7, 8]\n",
    "\n",
    "new = [i for i in a if i % 2 == 0] + [j for j in b if j % 2 == 0]\n",
    "print(new)\n"
   ]
  },
  {
   "cell_type": "code",
   "execution_count": 3,
   "id": "00635d8f",
   "metadata": {},
   "outputs": [
    {
     "name": "stdout",
     "output_type": "stream",
     "text": [
      "['DATA', 'SCIENCE']\n"
     ]
    }
   ],
   "source": [
    "data = [\"Data\",\"science\"]\n",
    "\n",
    "upper=[_.upper() for _ in data]\n",
    "\n",
    "print(upper)"
   ]
  },
  {
   "cell_type": "markdown",
   "id": "fcab3bc6",
   "metadata": {},
   "source": [
    "The underscore (_) sign is commonly used in list comprehension as a placeholder for values that will not be used in the iteration. It is used to mark that the value is not important in the context of list comprehension and is simply discarded."
   ]
  },
  {
   "cell_type": "code",
   "execution_count": 4,
   "id": "cab270a6",
   "metadata": {},
   "outputs": [
    {
     "name": "stdout",
     "output_type": "stream",
     "text": [
      "[[1, 1], [9, 27], [25, 125], [49, 343]]\n"
     ]
    }
   ],
   "source": [
    "num = range(1, 8, 2)\n",
    "\n",
    "square_cubic = [[_**2, _**3] for _ in num]\n",
    "print(square_cubic)"
   ]
  }
 ],
 "metadata": {
  "kernelspec": {
   "display_name": "Python 3 (ipykernel)",
   "language": "python",
   "name": "python3"
  },
  "language_info": {
   "codemirror_mode": {
    "name": "ipython",
    "version": 3
   },
   "file_extension": ".py",
   "mimetype": "text/x-python",
   "name": "python",
   "nbconvert_exporter": "python",
   "pygments_lexer": "ipython3",
   "version": "3.11.4"
  }
 },
 "nbformat": 4,
 "nbformat_minor": 5
}
