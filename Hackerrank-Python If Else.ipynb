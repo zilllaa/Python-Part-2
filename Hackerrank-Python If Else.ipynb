{
 "cells": [
  {
   "cell_type": "markdown",
   "id": "1c912ff1",
   "metadata": {},
   "source": [
    "# Hackerrank - Python If-Else"
   ]
  },
  {
   "cell_type": "markdown",
   "id": "c1792abd",
   "metadata": {},
   "source": [
    "Given an integer, n , perform the following conditional actions:\n",
    "\n",
    "- If n is odd, print Weird\n",
    "- If n is even and in the inclusive range of 2 to 5, print Not Weird\n",
    "- If n is even and in the inclusive range of 6 to 20, print Weird\n",
    "- If n is even and greater than 20, print Not Weird"
   ]
  },
  {
   "cell_type": "code",
   "execution_count": 3,
   "id": "c389286c",
   "metadata": {},
   "outputs": [
    {
     "name": "stdout",
     "output_type": "stream",
     "text": [
      "7\n",
      "weird\n"
     ]
    }
   ],
   "source": [
    "n = int(input().strip())\n",
    "if n % 2!= 0:\n",
    "    print(\"weird\")\n",
    "else:\n",
    "    if (2 < n <= 5):\n",
    "        print(\"Not weird\")\n",
    "    elif (6 <= n <= 20):\n",
    "        print(\"weird\")\n",
    "    elif (20 < n <= 100):\n",
    "        print(\"Not weird\")\n"
   ]
  },
  {
   "cell_type": "markdown",
   "id": "3e6752b9",
   "metadata": {},
   "source": [
    "### Logic Implementation in class"
   ]
  },
  {
   "cell_type": "code",
   "execution_count": 4,
   "id": "1a5a28a2",
   "metadata": {},
   "outputs": [
    {
     "name": "stdout",
     "output_type": "stream",
     "text": [
      "Leap Year\n",
      "Insert Year : 2023\n",
      "Odd Year\n"
     ]
    }
   ],
   "source": [
    "print(\"Leap Year\")\n",
    "\n",
    "Year = int(input(\"Insert Year : \"))\n",
    "i = Year\n",
    "\n",
    "if i %4 == 0:\n",
    "    print(\"Leap Year {}\".format(i))\n",
    "else:\n",
    "    if i % 2 == 0:\n",
    "        print(\"Even Year\")\n",
    "    elif i %2 != 0:\n",
    "        print(\"Odd Year\")"
   ]
  }
 ],
 "metadata": {
  "kernelspec": {
   "display_name": "Python 3 (ipykernel)",
   "language": "python",
   "name": "python3"
  },
  "language_info": {
   "codemirror_mode": {
    "name": "ipython",
    "version": 3
   },
   "file_extension": ".py",
   "mimetype": "text/x-python",
   "name": "python",
   "nbconvert_exporter": "python",
   "pygments_lexer": "ipython3",
   "version": "3.11.4"
  }
 },
 "nbformat": 4,
 "nbformat_minor": 5
}
