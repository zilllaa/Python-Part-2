{
 "cells": [
  {
   "cell_type": "markdown",
   "id": "68500cbe",
   "metadata": {},
   "source": [
    "# Function"
   ]
  },
  {
   "cell_type": "markdown",
   "id": "585427ad",
   "metadata": {},
   "source": [
    "- A function in mathematics is a process that maps an input to an output. In Python, functions serve a similar purpose while also being used to organize code for reusability.\n",
    "- Python functions should ideally have a specific purpose and be designed for reusability.\n",
    "- While Python provides common built-in functions, developers can also define their own custom functions."
   ]
  },
  {
   "cell_type": "markdown",
   "id": "b48a9727",
   "metadata": {},
   "source": [
    "## Define a Function"
   ]
  },
  {
   "cell_type": "markdown",
   "id": "66324a17",
   "metadata": {},
   "source": [
    "- Functions are defined in Python using the 'def' keyword followed by the function name and its parameters enclosed in parentheses ().\n",
    "- Optionally, you can add a docstring, which is a documentation string that provides context and information about the function's purpose.\n",
    "- The code block inside each function starts with a colon ':' and uses indentation (whitespace) to define the scope of the function.\n",
    "- A function terminates when it encounters a return statement, which returns the specified expression to the caller.\n",
    "- Functions can also have no return value, indicated by 'return None'."
   ]
  },
  {
   "cell_type": "code",
   "execution_count": 1,
   "id": "52ab24fe",
   "metadata": {},
   "outputs": [],
   "source": [
    "def squared(x):\n",
    "    quadrate = x**3\n",
    "    return quadrate"
   ]
  },
  {
   "cell_type": "code",
   "execution_count": 2,
   "id": "b91e43ad",
   "metadata": {},
   "outputs": [
    {
     "data": {
      "text/plain": [
       "125"
      ]
     },
     "execution_count": 2,
     "metadata": {},
     "output_type": "execute_result"
    }
   ],
   "source": [
    "squared(5)"
   ]
  },
  {
   "cell_type": "code",
   "execution_count": 3,
   "id": "281b33b6",
   "metadata": {},
   "outputs": [],
   "source": [
    "def cubed(x):\n",
    "    cubic = x**3\n",
    "    return cubic"
   ]
  },
  {
   "cell_type": "code",
   "execution_count": 4,
   "id": "48dce52d",
   "metadata": {},
   "outputs": [
    {
     "data": {
      "text/plain": [
       "8"
      ]
     },
     "execution_count": 4,
     "metadata": {},
     "output_type": "execute_result"
    }
   ],
   "source": [
    "cubed(2)"
   ]
  },
  {
   "cell_type": "code",
   "execution_count": 5,
   "id": "8ea96617",
   "metadata": {},
   "outputs": [
    {
     "data": {
      "text/plain": [
       "11.0"
      ]
     },
     "execution_count": 5,
     "metadata": {},
     "output_type": "execute_result"
    }
   ],
   "source": [
    "import math\n",
    "\n",
    "def square_root(x):\n",
    "    root = math.sqrt(x)\n",
    "    return root\n",
    "\n",
    "square_root(121)"
   ]
  },
  {
   "cell_type": "code",
   "execution_count": 6,
   "id": "913f095c",
   "metadata": {},
   "outputs": [
    {
     "data": {
      "text/plain": [
       "'Data Analyst'"
      ]
     },
     "execution_count": 6,
     "metadata": {},
     "output_type": "execute_result"
    }
   ],
   "source": [
    "def concatenate_strings(str1, str2):\n",
    "    concatenate = str1 + \" \" + str2\n",
    "    return concatenate\n",
    "\n",
    "concatenate_strings(\"Data\", \"Analyst\")"
   ]
  },
  {
   "cell_type": "markdown",
   "id": "26aeb240",
   "metadata": {},
   "source": [
    "By default in Python, when a function is declared, its parameters are positioned in the order in which they were defined. For the function to be invoked correctly, the parameters must be called in the same order."
   ]
  },
  {
   "cell_type": "code",
   "execution_count": 7,
   "id": "f8c8658d",
   "metadata": {},
   "outputs": [
    {
     "data": {
      "text/plain": [
       "'Hi, we are Data Analyst'"
      ]
     },
     "execution_count": 7,
     "metadata": {},
     "output_type": "execute_result"
    }
   ],
   "source": [
    "def name(x):\n",
    "    hello = \"Hi, we are {}\".format(x)\n",
    "    return hello\n",
    "\n",
    "name(\"Data Analyst\")"
   ]
  },
  {
   "cell_type": "markdown",
   "id": "d5283e14",
   "metadata": {},
   "source": [
    "## Return"
   ]
  },
  {
   "cell_type": "markdown",
   "id": "c4b5c7dc",
   "metadata": {},
   "source": [
    "The function will terminate the execution of the program and simultaneously return a specific value when the return statement is used with the assigned expression."
   ]
  },
  {
   "cell_type": "code",
   "execution_count": 8,
   "id": "69a1c2a8",
   "metadata": {},
   "outputs": [
    {
     "name": "stdout",
     "output_type": "stream",
     "text": [
      "The result of addition is 5\n"
     ]
    },
    {
     "data": {
      "text/plain": [
       "5"
      ]
     },
     "execution_count": 8,
     "metadata": {},
     "output_type": "execute_result"
    }
   ],
   "source": [
    "def addition(x, y):\n",
    "    plus = x + y\n",
    "    print(\"The result of addition is {}\".format(plus))\n",
    "    return plus\n",
    "\n",
    "addition(2, 3)"
   ]
  },
  {
   "cell_type": "code",
   "execution_count": 9,
   "id": "1bd11a62",
   "metadata": {},
   "outputs": [
    {
     "name": "stdout",
     "output_type": "stream",
     "text": [
      "The result of addition is 5\n",
      "The result of return is 5\n"
     ]
    }
   ],
   "source": [
    "output = addition(2, 3)\n",
    "print(\"The result of return is {}\".format(output))"
   ]
  },
  {
   "cell_type": "markdown",
   "id": "0e22b1cb",
   "metadata": {},
   "source": [
    "The return value of a function can be stored in a variable, which distinguishes it from a void function, which has no return value.  It is this defining feature that determines whether a value is returned or not."
   ]
  },
  {
   "cell_type": "code",
   "execution_count": 10,
   "id": "e64dcb95",
   "metadata": {},
   "outputs": [
    {
     "data": {
      "text/plain": [
       "30"
      ]
     },
     "execution_count": 10,
     "metadata": {},
     "output_type": "execute_result"
    }
   ],
   "source": [
    "def math(a, b):\n",
    "    addition = a + b\n",
    "    subtraction = a - b\n",
    "    times = a * b\n",
    "    divided = a / b\n",
    "    return times\n",
    "\n",
    "math(6, 5)"
   ]
  },
  {
   "cell_type": "code",
   "execution_count": 11,
   "id": "d24d5123",
   "metadata": {},
   "outputs": [
    {
     "name": "stdout",
     "output_type": "stream",
     "text": [
      "The result is 36\n"
     ]
    }
   ],
   "source": [
    "output = math(4, 9)\n",
    "print(\"The result is {}\".format(output))"
   ]
  },
  {
   "cell_type": "markdown",
   "id": "c2d6395d",
   "metadata": {},
   "source": [
    "In the code above, it will produce the output based on the result returned. If it returns 'addition,' the output will be the result of a plus b. If it returns 'subtraction,' the output will be the result of a minus b, and the same goes for 'times' and 'divided'."
   ]
  }
 ],
 "metadata": {
  "kernelspec": {
   "display_name": "Python 3 (ipykernel)",
   "language": "python",
   "name": "python3"
  },
  "language_info": {
   "codemirror_mode": {
    "name": "ipython",
    "version": 3
   },
   "file_extension": ".py",
   "mimetype": "text/x-python",
   "name": "python",
   "nbconvert_exporter": "python",
   "pygments_lexer": "ipython3",
   "version": "3.11.4"
  }
 },
 "nbformat": 4,
 "nbformat_minor": 5
}
