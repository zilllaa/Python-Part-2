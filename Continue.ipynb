{
 "cells": [
  {
   "cell_type": "markdown",
   "id": "4b85e591",
   "metadata": {},
   "source": [
    "# Continue"
   ]
  },
  {
   "cell_type": "markdown",
   "id": "f2979b74",
   "metadata": {},
   "source": [
    "In Python, the continue statement is a control statement used within loops (such as for or while) to skip the current iteration and proceed to the next one. Here's a simple explanation of how the continue statement works:\n",
    "\n",
    "When a continue statement is encountered inside a loop, it immediately stops the current iteration of the loop and moves on to the next iteration. This means that any code following the continue statement within the current iteration is skipped, and the loop continues with the next iteration."
   ]
  },
  {
   "cell_type": "markdown",
   "id": "08396bac",
   "metadata": {},
   "source": [
    "## Here's a basic example to illustrate the concept:"
   ]
  },
  {
   "cell_type": "code",
   "execution_count": 3,
   "id": "3c22d167",
   "metadata": {},
   "outputs": [
    {
     "name": "stdout",
     "output_type": "stream",
     "text": [
      "L\n",
      "e\n",
      "a\n",
      "r\n",
      " \n",
      "P\n",
      "y\n",
      "t\n",
      "h\n",
      "o\n"
     ]
    }
   ],
   "source": [
    "for i in \"Learn Python\":\n",
    "    if i == \"n\":\n",
    "        continue\n",
    "    print(i)\n",
    "\n",
    "#Characters \"n\" are skipped due to the continue statement."
   ]
  },
  {
   "cell_type": "code",
   "execution_count": 4,
   "id": "80a89e44",
   "metadata": {},
   "outputs": [
    {
     "name": "stdout",
     "output_type": "stream",
     "text": [
      "1\n",
      "3\n",
      "5\n"
     ]
    }
   ],
   "source": [
    "num = [1,2,3,4,5]\n",
    "\n",
    "for i in num:\n",
    "    if i % 2 == 0:\n",
    "        continue\n",
    "        print(i)\n",
    "    elif i == 6:\n",
    "        break\n",
    "        print(i)\n",
    "    else:\n",
    "        print(i)"
   ]
  },
  {
   "cell_type": "code",
   "execution_count": 9,
   "id": "5d614547",
   "metadata": {},
   "outputs": [
    {
     "name": "stdout",
     "output_type": "stream",
     "text": [
      "Hello Prita\n",
      "Done!\n"
     ]
    }
   ],
   "source": [
    "#String\n",
    "names = [\"Prita\", \"Lita\", \"Zilla\", \"Diva\", \"Ryan\"]\n",
    "\n",
    "for name in names:\n",
    "    if len(name) != 5:\n",
    "        continue\n",
    "    elif name == \"Zilla\":\n",
    "        print(\"Done!\")\n",
    "        break\n",
    "    else:\n",
    "        print(\"Hello {}\".format(name))"
   ]
  },
  {
   "cell_type": "markdown",
   "id": "4fa73303",
   "metadata": {},
   "source": [
    "### In summary, the continue statement is used to skip the rest of the code within the current iteration of a loop and proceed directly to the next iteration, allowing you to control the flow of your loop."
   ]
  }
 ],
 "metadata": {
  "kernelspec": {
   "display_name": "Python 3 (ipykernel)",
   "language": "python",
   "name": "python3"
  },
  "language_info": {
   "codemirror_mode": {
    "name": "ipython",
    "version": 3
   },
   "file_extension": ".py",
   "mimetype": "text/x-python",
   "name": "python",
   "nbconvert_exporter": "python",
   "pygments_lexer": "ipython3",
   "version": "3.11.4"
  }
 },
 "nbformat": 4,
 "nbformat_minor": 5
}
