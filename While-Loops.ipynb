{
 "cells": [
  {
   "cell_type": "markdown",
   "id": "ceb2d0f0",
   "metadata": {},
   "source": [
    "# While - Loops"
   ]
  },
  {
   "cell_type": "markdown",
   "id": "786cc222",
   "metadata": {},
   "source": [
    "- The `while` statement in Python is for creating loops.\n",
    "- It allows you to automate repetitive tasks.\n",
    "- This loop repeatedly checks a specified condition before each iteration.\n",
    "- The loop continues executing a block of code as long as the condition is True.\n",
    "- It stops when the condition becomes False.\n",
    "- Moreover, the `while` loop is valuable for controlling the flow of your program based on changing conditions."
   ]
  },
  {
   "cell_type": "code",
   "execution_count": 1,
   "id": "851c1acd",
   "metadata": {},
   "outputs": [
    {
     "name": "stdout",
     "output_type": "stream",
     "text": [
      "4\n",
      "number 4\n",
      "number 6\n",
      "number 8\n"
     ]
    }
   ],
   "source": [
    "number = int(input())\n",
    "\n",
    "while (number < 10):\n",
    "    print(\"number {}\".format(number))\n",
    "    number = number + 2"
   ]
  },
  {
   "cell_type": "code",
   "execution_count": 2,
   "id": "eb2748c0",
   "metadata": {},
   "outputs": [
    {
     "name": "stdout",
     "output_type": "stream",
     "text": [
      "Insert word (10 characters exactly): watermelon\n",
      "Word length is correct. Thank you!\n"
     ]
    }
   ],
   "source": [
    "input_string = input(\"Insert word (10 characters exactly): \")\n",
    "\n",
    "while len(input_string) != 10:\n",
    "    print(\"Word length must be exactly 10 characters.\")\n",
    "    input_string = input(\"Insert word (10 characters exactly): \")\n",
    "\n",
    "print(\"Word length is correct. Thank you!\")"
   ]
  },
  {
   "cell_type": "markdown",
   "id": "c1c5da16",
   "metadata": {},
   "source": [
    "## Else after While"
   ]
  },
  {
   "cell_type": "markdown",
   "id": "4e8c87ce",
   "metadata": {},
   "source": [
    "In a `while` statement, the `else` block will always be executed when the condition in the `while` statement becomes `False`."
   ]
  },
  {
   "cell_type": "code",
   "execution_count": 4,
   "id": "cc413c0e",
   "metadata": {},
   "outputs": [
    {
     "name": "stdout",
     "output_type": "stream",
     "text": [
      "6\n",
      "8\n",
      "10\n",
      "loop finish\n"
     ]
    }
   ],
   "source": [
    "number = int(input())\n",
    "\n",
    "while (number < 10):\n",
    "    number = number + 2\n",
    "    if number == 6:\n",
    "        break\n",
    "    print(number)\n",
    "else:\n",
    "    print(\"loop finish\")"
   ]
  },
  {
   "cell_type": "code",
   "execution_count": 5,
   "id": "69428cbb",
   "metadata": {},
   "outputs": [
    {
     "name": "stdout",
     "output_type": "stream",
     "text": [
      "Guess the number (1-10): 8\n",
      "A little bit less\n",
      "Guess the number (1-10): 7\n",
      "Congratulations! You guessed the correct number.\n",
      "Game over!\n"
     ]
    }
   ],
   "source": [
    "#Number guessing game\n",
    "target_value = 7\n",
    "\n",
    "user_input = None\n",
    "\n",
    "while user_input != target_value:\n",
    "    user_input = int(input(\"Guess the number (1-10): \"))\n",
    "\n",
    "    if user_input == target_value:\n",
    "        print(\"Congratulations! You guessed the correct number.\")\n",
    "        break\n",
    "    elif user_input > 10:\n",
    "        break\n",
    "    elif user_input < target_value:\n",
    "        print (\"A little bit more\")\n",
    "    else:\n",
    "        print (\"A little bit less\")\n",
    "else:\n",
    "    print(\"Try again. That's not the correct number.\")\n",
    "    \n",
    "print(\"Game over!\")"
   ]
  },
  {
   "cell_type": "code",
   "execution_count": 6,
   "id": "b9c998c9",
   "metadata": {},
   "outputs": [
    {
     "name": "stdout",
     "output_type": "stream",
     "text": [
      "10\n",
      "8\n",
      "6\n",
      "4\n",
      "2\n",
      "0\n",
      "loop finish\n"
     ]
    }
   ],
   "source": [
    "number = int(input())\n",
    "while (number > 0):\n",
    "    number = number - 2\n",
    "    print(number)\n",
    "else:\n",
    "    print(\"loop finish\")"
   ]
  },
  {
   "cell_type": "code",
   "execution_count": 7,
   "id": "03a88c43",
   "metadata": {},
   "outputs": [
    {
     "name": "stdout",
     "output_type": "stream",
     "text": [
      "Leap year\n",
      "Input : 2020\n",
      "'2020' is a Leap year\n"
     ]
    }
   ],
   "source": [
    "print(\"Leap year\")\n",
    "\n",
    "tahun = int(input(\"Input : \"))\n",
    "i = tahun\n",
    "\n",
    "if i %4 == 0:\n",
    "    print(\"'{}' is a Leap year\".format(i))\n",
    "else:\n",
    "    if i % 2 == 0:\n",
    "        print(\"even year\")\n",
    "    elif i %2 != 0:\n",
    "        print(\"odd year\")"
   ]
  }
 ],
 "metadata": {
  "kernelspec": {
   "display_name": "Python 3 (ipykernel)",
   "language": "python",
   "name": "python3"
  },
  "language_info": {
   "codemirror_mode": {
    "name": "ipython",
    "version": 3
   },
   "file_extension": ".py",
   "mimetype": "text/x-python",
   "name": "python",
   "nbconvert_exporter": "python",
   "pygments_lexer": "ipython3",
   "version": "3.11.4"
  }
 },
 "nbformat": 4,
 "nbformat_minor": 5
}
