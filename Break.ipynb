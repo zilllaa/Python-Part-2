{
 "cells": [
  {
   "cell_type": "markdown",
   "id": "e0076117",
   "metadata": {},
   "source": [
    "# Break"
   ]
  },
  {
   "cell_type": "markdown",
   "id": "01400602",
   "metadata": {},
   "source": [
    "In Python, the break statement is a control statement used to exit a loop prematurely. It allows you to terminate the current loop and resume execution of the program after the loop. Here's a simple explanation of how the break statement works:\n",
    "\n",
    "Imagine you have a loop (e.g., for or while) that is designed to run a set of instructions repeatedly until a certain condition is met. The break statement is used to interrupt the loop and stop its execution when a specific condition is satisfied. Once the break statement is encountered, the loop immediately exits, and the program continues with the code outside of the loop."
   ]
  },
  {
   "cell_type": "markdown",
   "id": "bc5ebe17",
   "metadata": {},
   "source": [
    "## Here's a basic example to illustrate the concept:"
   ]
  },
  {
   "cell_type": "code",
   "execution_count": 2,
   "id": "615e14af",
   "metadata": {},
   "outputs": [
    {
     "name": "stdout",
     "output_type": "stream",
     "text": [
      "L\n",
      "e\n",
      "a\n",
      "r\n"
     ]
    }
   ],
   "source": [
    "for i in \"Learn Python\":\n",
    "    if i == \"n\":\n",
    "        break\n",
    "    print(i)"
   ]
  },
  {
   "cell_type": "markdown",
   "id": "02941e0a",
   "metadata": {},
   "source": [
    "The loop prints characters \"L,\" \"e,\" \"a,\" and \"r\" because these characters appear before \"n\" in the string \"Learn Python.\"\n",
    "Once the loop reaches \"n,\" the break statement is triggered, and the loop ends prematurely. \n",
    "\n",
    "In summary, the break statement is used to exit a loop when a specific condition is met. In this case, it stops the loop as soon as it encounters the character \"n\" in the string."
   ]
  },
  {
   "cell_type": "code",
   "execution_count": 3,
   "id": "18579d61",
   "metadata": {},
   "outputs": [
    {
     "name": "stdout",
     "output_type": "stream",
     "text": [
      "Month : January\n",
      "Month : February\n",
      "Month : March\n",
      "Month : April\n",
      "Loop has finished\n"
     ]
    }
   ],
   "source": [
    "for month in ['January', 'February','March','April','May','June','July']:\n",
    "    if month == 'May':\n",
    "        break\n",
    "    print(\"Month : {}\".format(month))\n",
    "\n",
    "print(\"Loop has finished\")"
   ]
  },
  {
   "cell_type": "code",
   "execution_count": 5,
   "id": "faaea7ff",
   "metadata": {},
   "outputs": [
    {
     "name": "stdout",
     "output_type": "stream",
     "text": [
      "D\n",
      "a\n",
      "t\n",
      "a\n"
     ]
    }
   ],
   "source": [
    "for i in \"Data Science\":\n",
    "    if i == \" \":\n",
    "        break\n",
    "    print(i)\n",
    "    \n",
    "#loop will stop when it reaches value \" \""
   ]
  },
  {
   "cell_type": "code",
   "execution_count": 4,
   "id": "1606d078",
   "metadata": {},
   "outputs": [
    {
     "name": "stdout",
     "output_type": "stream",
     "text": [
      "Number : 1\n",
      "Number : 2\n",
      "Number : 3\n",
      "Number : 4\n",
      "The loop will stop when it reaches the value 5\n",
      "Loop has finished executing\n"
     ]
    }
   ],
   "source": [
    "for number in range(1, 11):\n",
    "    if number == 5:\n",
    "        print(\"The loop will stop when it reaches the value 5\")\n",
    "        break  \n",
    "    print(\"Number : {}\".format(number))\n",
    "\n",
    "print(\"Loop has finished executing\")"
   ]
  },
  {
   "cell_type": "code",
   "execution_count": 6,
   "id": "880d1a18",
   "metadata": {},
   "outputs": [
    {
     "name": "stdout",
     "output_type": "stream",
     "text": [
      "1\n",
      "2\n",
      "3\n"
     ]
    }
   ],
   "source": [
    "num = [1, 2, 3, 4, 5, 6]\n",
    "\n",
    "for i in num:\n",
    "    if i > 3:\n",
    "        break\n",
    "    print(i)\n",
    "    \n",
    "#loop stops at data over 3"
   ]
  }
 ],
 "metadata": {
  "kernelspec": {
   "display_name": "Python 3 (ipykernel)",
   "language": "python",
   "name": "python3"
  },
  "language_info": {
   "codemirror_mode": {
    "name": "ipython",
    "version": 3
   },
   "file_extension": ".py",
   "mimetype": "text/x-python",
   "name": "python",
   "nbconvert_exporter": "python",
   "pygments_lexer": "ipython3",
   "version": "3.11.4"
  }
 },
 "nbformat": 4,
 "nbformat_minor": 5
}
